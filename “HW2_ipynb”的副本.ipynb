{
  "nbformat": 4,
  "nbformat_minor": 0,
  "metadata": {
    "colab": {
      "name": "“HW2.ipynb”的副本",
      "provenance": [],
      "include_colab_link": true
    },
    "kernelspec": {
      "name": "python3",
      "display_name": "Python 3"
    }
  },
  "cells": [
    {
      "cell_type": "markdown",
      "metadata": {
        "id": "view-in-github",
        "colab_type": "text"
      },
      "source": [
        "<a href=\"https://colab.research.google.com/github/zeyuyuyu/M202/blob/master/%E2%80%9CHW2_ipynb%E2%80%9D%E7%9A%84%E5%89%AF%E6%9C%AC.ipynb\" target=\"_parent\"><img src=\"https://colab.research.google.com/assets/colab-badge.svg\" alt=\"Open In Colab\"/></a>"
      ]
    },
    {
      "cell_type": "markdown",
      "metadata": {
        "id": "HHEXA-TUpa_j",
        "colab_type": "text"
      },
      "source": [
        "# UCLA Fall 2019 ECEM202A/CSM213A Assignment 2\n",
        "## Due: December 13, 11:59PM\n",
        "Instructions: \n",
        "* There will be no deadline extension.\n",
        "* Please make a copy of this [Google Colab](https://colab.research.google.com/) notebook and put your code and answer within it.\n",
        "* You can use any Python package. You may need to install it if Google Colab doesn't already have it.\n",
        "* You have to submit this homework via Gradescope. You have already been enrolled there using the official roster. In the PDF that you upload on Gradescope, please start the answer to every problem on a new page and make sure to assign pages to each of problem/subproblem correctly within Gradescope.\n",
        "---"
      ]
    },
    {
      "cell_type": "markdown",
      "metadata": {
        "id": "FbPI_UFtERnc",
        "colab_type": "text"
      },
      "source": [
        "### Your Name:\n",
        "\\<name\\>\n",
        "\n",
        "### URL:\n",
        "\n",
        "\\<provide URL of your copy of this Google Collab Notebook (make sure it is publicly shared)\\>\n",
        "\n",
        "---"
      ]
    },
    {
      "cell_type": "markdown",
      "metadata": {
        "id": "li3VSFSdp_Qy",
        "colab_type": "text"
      },
      "source": [
        "## Problem #1: Topic Deep Dive [15 points]\n",
        "\n",
        "Pick one of the topics from the list below, and based on web research write a 1-2 page (500-1000 words; excluding references and figures) essay / survey on the topic. Adapt your presentation to the nature of the topic with the goal of informing the reader about the current state of technology.\n",
        "\n",
        "* Ultra-low-latency networking and its applications\n",
        "* Time synchronization and latency in financial markets\n",
        "* Security vulnerabilities and mitigation in NTP"
      ]
    },
    {
      "cell_type": "markdown",
      "metadata": {
        "id": "xUZTXQsvqJXl",
        "colab_type": "text"
      },
      "source": [
        "### Answer:\n",
        "\n",
        "\\<edit\\>\n"
      ]
    },
    {
      "cell_type": "markdown",
      "metadata": {
        "id": "kRTNfUrvqfvI",
        "colab_type": "text"
      },
      "source": [
        "---"
      ]
    },
    {
      "cell_type": "markdown",
      "metadata": {
        "id": "RyHpCpyX_Psb",
        "colab_type": "text"
      },
      "source": [
        "## Problem #2: In the News [5 points]\n",
        "\n",
        "Research the web to find an incident that resulted in loss of service or of life or property, and whose cause related to the computing system having bad information about time. Your example must not be one that are already in the lecture slides. In a few sentences (max 200 words) describe the incident(s), the cause, and possible mitigation."
      ]
    },
    {
      "cell_type": "markdown",
      "metadata": {
        "id": "cub9zIuG_W5p",
        "colab_type": "text"
      },
      "source": [
        "### Answer:\n",
        "\\<edit\\>"
      ]
    },
    {
      "cell_type": "markdown",
      "metadata": {
        "id": "h2ptZvQbDMN0",
        "colab_type": "text"
      },
      "source": [
        "---"
      ]
    },
    {
      "cell_type": "markdown",
      "metadata": {
        "id": "OalKYt_iDLIo",
        "colab_type": "text"
      },
      "source": [
        "## Problem #3: Short Questions on Time [5 x 2 = 10 points]\n",
        "\n",
        "Note: The following will be graded on a binary basis with either zero score or full credit being given."
      ]
    },
    {
      "cell_type": "markdown",
      "metadata": {
        "id": "k-LbVBDpFFm2",
        "colab_type": "text"
      },
      "source": [
        "**a. Name at least two factors that fundamentally limit how precisely one can synchronize two computers talking over a communication link. Expain.**"
      ]
    },
    {
      "cell_type": "markdown",
      "metadata": {
        "id": "6E7GK5vPGUYy",
        "colab_type": "text"
      },
      "source": [
        "Answer: \\<edit\\>"
      ]
    },
    {
      "cell_type": "markdown",
      "metadata": {
        "id": "b6I5Ea6NGFA6",
        "colab_type": "text"
      },
      "source": [
        "**b. With current technology how precisely can one synchronize two computers connected via an ethernet cable>? Explain your answer and support any assumptions via references.**"
      ]
    },
    {
      "cell_type": "markdown",
      "metadata": {
        "id": "aiEhG3M_GVrt",
        "colab_type": "text"
      },
      "source": [
        "Answer: \\<edit\\>"
      ]
    },
    {
      "cell_type": "markdown",
      "metadata": {
        "id": "Mmz1jlpfGWck",
        "colab_type": "text"
      },
      "source": [
        "**c. There is considerable ambiguity in jargon relating to clocks, and it does not helpo that different research communities use different terms. One relevant standard is Internet RFC 2330 (Framework for IP Performance Metrics). Read Section 10 of this RFC, and describe what is the difference between the following terms: offset, relative offset, skew, relative skew, and drift.**"
      ]
    },
    {
      "cell_type": "markdown",
      "metadata": {
        "id": "JZEjAQNLI6R1",
        "colab_type": "text"
      },
      "source": [
        "Answer: \\<edit\\>"
      ]
    },
    {
      "cell_type": "markdown",
      "metadata": {
        "id": "k5Oey4nBJBKw",
        "colab_type": "text"
      },
      "source": [
        "**d. What is the process of minimizing the difference between the frequencies of two clocks called?**"
      ]
    },
    {
      "cell_type": "markdown",
      "metadata": {
        "id": "11I9BHqjKBvt",
        "colab_type": "text"
      },
      "source": [
        "Answer: \\<edit\\>"
      ]
    },
    {
      "cell_type": "markdown",
      "metadata": {
        "id": "GU_ECvx-KN9H",
        "colab_type": "text"
      },
      "source": [
        "***e. Allowing software processes running on a computer to measure passage of time very precisely can lead to security problems, to the extent that in some computer systems the time made visible to an application is made deliberately less precise. Can you suggest one security vulnerability that occurs because time intervals can be measured too well? Provide reference to any paper that you consult.***"
      ]
    },
    {
      "cell_type": "markdown",
      "metadata": {
        "id": "HXuY-kg_KLn9",
        "colab_type": "text"
      },
      "source": [
        "Answer: \\<edit\\>"
      ]
    },
    {
      "cell_type": "markdown",
      "metadata": {
        "id": "PXqOxvvZ_aRn",
        "colab_type": "text"
      },
      "source": [
        "---"
      ]
    },
    {
      "cell_type": "markdown",
      "metadata": {
        "id": "ECpFaFKYqEY2",
        "colab_type": "text"
      },
      "source": [
        "## Problem #4: Analyzing Quality of Clocks [4 x 5 = 20 points]\n",
        "\n",
        "In the lecture we saw how clocks drift differently to each other. Assume we have two crystal oscillators both running at a nominal frequency of 8 MHz. We connect each crystal to a counter, and collect in regular intervals the value of the counter. The frequency with which we collect the values is precisely 1Hz (you can assume that this is generated by an atomic clock). \n",
        "\n",
        "Answer the following questions by using clock measurement data in the CSV file at https://drive.google.com/file/d/1AIkNxEWXCqGCEO6hPGHlkU5lHM5Sk6Dz. The columns are: atomic time [seconds], temperature, count of crystal 1, count of crystal 2.\n",
        "\n",
        "All your code should be in the code blocks below and be runnable."
      ]
    },
    {
      "cell_type": "markdown",
      "metadata": {
        "id": "2zp3NgZ7vPXR",
        "colab_type": "text"
      },
      "source": [
        "#### a. Calculate and plot the Allan variance for each crystal.\n",
        "\n",
        "#### Answer:"
      ]
    },
    {
      "cell_type": "code",
      "metadata": {
        "id": "zcSwpRYNvwNM",
        "colab_type": "code",
        "colab": {}
      },
      "source": [
        "# Code for part a"
      ],
      "execution_count": 0,
      "outputs": []
    },
    {
      "cell_type": "markdown",
      "metadata": {
        "id": "jZdYvInFvRRN",
        "colab_type": "text"
      },
      "source": [
        "#### b. Extract the temperature vs. frequency curve for each crystal and plot it.\n",
        "\n",
        "#### Answer:"
      ]
    },
    {
      "cell_type": "code",
      "metadata": {
        "id": "Wp56z8alv_ZL",
        "colab_type": "code",
        "colab": {}
      },
      "source": [
        "# Code for part b"
      ],
      "execution_count": 0,
      "outputs": []
    },
    {
      "cell_type": "markdown",
      "metadata": {
        "id": "_Ea6nb74vSV0",
        "colab_type": "text"
      },
      "source": [
        "#### c. By using the T vs. f curve from the part (b), create a TCXO and compensate the frequency of each crystal.\n",
        "\n",
        "#### Answer:"
      ]
    },
    {
      "cell_type": "code",
      "metadata": {
        "id": "KcbowvrWwKnK",
        "colab_type": "code",
        "colab": {}
      },
      "source": [
        "# Code for part c"
      ],
      "execution_count": 0,
      "outputs": []
    },
    {
      "cell_type": "markdown",
      "metadata": {
        "id": "klomNTN1wMVA",
        "colab_type": "text"
      },
      "source": [
        "#### d. Plot a graph that shows the error without and with compensation, compared to what an atomic clock would have. Calculate the Allan variance of the compensated crystal. Do you notice something?\n",
        "\n",
        "#### Answer:"
      ]
    },
    {
      "cell_type": "code",
      "metadata": {
        "id": "ezCsovGhwVa4",
        "colab_type": "code",
        "colab": {}
      },
      "source": [
        "# Code for part d"
      ],
      "execution_count": 0,
      "outputs": []
    },
    {
      "cell_type": "markdown",
      "metadata": {
        "id": "loBT8lrCcTX5",
        "colab_type": "text"
      },
      "source": [
        "\n",
        "\n",
        "---\n",
        "\n"
      ]
    },
    {
      "cell_type": "markdown",
      "metadata": {
        "id": "rUhJHpNl--qk",
        "colab_type": "text"
      },
      "source": [
        "## Problem #5: Smarter Sampling [10 points]\n",
        "\n",
        "You have a sensor that measured a single over a 10 second time interval. We are given that the physical process generates a sine wave $a \\cdot sin(2 \\cdot \\pi \\cdot f \\cdot t + \\phi)$ of some unknown amplitude $a$, frequence $f$, and phase $\\phi$. In light of this knowledge, the software saves on sampling by only making 8 measurements over the 10 second interval based on the idea that there are only three unknown parameters in a sine wave, and thus only a minimum of three samples are needed (and any more only serve to make tbe estimate more robust0. The measurements are as below (time is in seconds from the start of the interval). \n",
        "\n",
        "Reconstruct the measured signal waveform over the 10s interval by estimating the amplitude, frequency (in Hz), and phase (in radians). \n",
        "\n",
        "Think about both scalability and accuracy of your solution.\n",
        "\n",
        "| t (sec) | v |\n",
        "|----- | --- |\n",
        "| 5.71403 | 0.347064 |\n",
        "| 4.28889 | -0.396854 |\n",
        "| 5.78091 | -7.29133e-05 |\n",
        "| 2.06098 | 0.380579 |\n",
        "| 8.13321 | 0.272391 |\n",
        "| 8.23589 | -0.304111 |\n",
        "| 6.53473 | 0.265354 |\n",
        "| 1.6023 | 0.131908 |\n"
      ]
    },
    {
      "cell_type": "code",
      "metadata": {
        "id": "nFhn4ElRTkmG",
        "colab_type": "code",
        "colab": {}
      },
      "source": [
        "measurements = [(5.71403,0.347064), (4.28889, -0.396854), (5.78091, -7.29133e-05), \n",
        "(2.06098, 0.380579), (8.13321, 0.272391), (8.23589, -0.304111), (6.53473, 0.265354), (1.6023, 0.131908)]\n",
        "\n",
        "# write the function below, returning a tuple (amplitude, frequency, phase)\n",
        "def reconstruct_waveform(data):\n",
        "  # replace the body with your code\n",
        "  assert False, \"Not Implemented\"\n",
        "\n",
        "reconstruct_waveform(measurements)"
      ],
      "execution_count": 0,
      "outputs": []
    },
    {
      "cell_type": "code",
      "metadata": {
        "id": "UwDhR4Y6tJa7",
        "colab_type": "code",
        "colab": {}
      },
      "source": [
        ""
      ],
      "execution_count": 0,
      "outputs": []
    }
  ]
}